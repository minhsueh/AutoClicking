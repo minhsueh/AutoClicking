{
 "cells": [
  {
   "cell_type": "code",
   "execution_count": 1,
   "metadata": {},
   "outputs": [],
   "source": [
    "from selenium import webdriver \n",
    "import time\n",
    "from IPython.display import clear_output\n",
    "from IPython.core.magics.execution import _format_time\n",
    "from IPython.display import display as d\n",
    "from IPython.display import Audio\n",
    "from IPython.core.display import HTML\n",
    "import numpy as np\n",
    "import logging as log"
   ]
  },
  {
   "cell_type": "code",
   "execution_count": 2,
   "metadata": {},
   "outputs": [],
   "source": [
    "def alert():\n",
    "    #making sound when error occurs\n",
    "    framerate = 44100\n",
    "    duration=1\n",
    "    freq=300\n",
    "    t = np.linspace(0,duration,framerate*duration)\n",
    "    data = np.sin(2*np.pi*freq*t)\n",
    "    d(Audio(data,rate=framerate, autoplay=True))"
   ]
  },
  {
   "cell_type": "code",
   "execution_count": 17,
   "metadata": {
    "scrolled": true
   },
   "outputs": [
    {
     "name": "stderr",
     "output_type": "stream",
     "text": [
      "[WDM] - ====== WebDriver manager ======\n"
     ]
    },
    {
     "name": "stdout",
     "output_type": "stream",
     "text": [
      "\n",
      "\n"
     ]
    },
    {
     "name": "stderr",
     "output_type": "stream",
     "text": [
      "[WDM] - Current google-chrome version is 89.0.4389\n",
      "[WDM] - Get LATEST driver version for 89.0.4389\n",
      "[WDM] - Driver [/Users/peterchiu/.wdm/drivers/chromedriver/mac64/89.0.4389.23/chromedriver] found in cache\n"
     ]
    }
   ],
   "source": [
    "from webdriver_manager.chrome import ChromeDriverManager\n",
    "browser = webdriver.Chrome(ChromeDriverManager().install())\n",
    "#To use the appropriate edition of Chrome"
   ]
  },
  {
   "cell_type": "code",
   "execution_count": 18,
   "metadata": {},
   "outputs": [],
   "source": [
    "###user defined parameter:\n",
    "server = 202\n",
    "verbose = True # show the story information\n",
    "max_run_number = 200 #how many scenes need (There are 40 scenes in one story, cost 3AP)\n",
    "\n",
    "###\n",
    "#The priority dictionay for different events in sense.\n",
    "#1 is the most important event.\n",
    "#decrease CORRUPTION\n",
    "priority = {\n",
    "    'Set everything alight': 11,\n",
    "    'Smash everything': 6,\n",
    "    'Full attack': 7,\n",
    "    'Party': 4,\n",
    "    'Accept': 1,\n",
    "    'Look for a better path': 3,\n",
    "    'Terrorise': 9,\n",
    "    'Mislead': 999,\n",
    "    'Snoop': 1,\n",
    "    'Warn of dangers': 13,\n",
    "    'Escort': 15,\n",
    "    'Devour': 17,\n",
    "    'Carry on walking': 19,\n",
    "    'Brave': 21,\n",
    "    'Confront the enemy': 23,\n",
    "    'Ask for more': 1,\n",
    "    'Look for coins': 27,\n",
    "    'Ask for more': 998,\n",
    "    'Examine': 999,\n",
    "    'Talk': 999,\n",
    "    'Hide': 1,\n",
    "    'Investigate': 999,\n",
    "    'Rob': 998,\n",
    "    'Observe': 999,\n",
    "    'Werewolf`s howl': 999, \n",
    "    'Jump over it': 999,\n",
    "    'Use chance': 999,\n",
    "    'Find fortune in misfortune': 999,\n",
    "    'Curse': 998,\n",
    "    'Shadow bones': 999,\n",
    "    'Death wind': 999, \n",
    "    'Assassinate': 1,\n",
    "    'Death aura': 999,\n",
    "    'Throw a coin in': 999,\n",
    "    'Make some valuable booty': 999,\n",
    "\n",
    "    'Continue': 0,\n",
    "    #change place: 100 up\n",
    "    'Tread the mountain path': 100,\n",
    "    'Stay here': 120,\n",
    "    'Enter forest': 104,\n",
    "    'Enter city': 110,\n",
    "    'Rob city': 999,\n",
    "    'Enter the cavern': 999,\n",
    "    'Step into the depths': 102,\n",
    "\n",
    "    \n",
    "    #start new:\n",
    "    'Continue (3 AP)': 0,\n",
    "    'Complete story': 999\n",
    "}\n"
   ]
  },
  {
   "cell_type": "code",
   "execution_count": 19,
   "metadata": {},
   "outputs": [],
   "source": [
    "url = 'https://s' + str(server) + '-en.bitefight.gameforge.com/'\n",
    "browser.get(url) \n",
    "#In this step, the user need to log in on Chrome webdriver, and proceed to story starting pages"
   ]
  },
  {
   "cell_type": "code",
   "execution_count": 9,
   "metadata": {},
   "outputs": [],
   "source": [
    "def check_blood(blood_lower = 10000):\n",
    "    #If blood is lower than blood_lower, the script stop\n",
    "    status = browser.find_elements_by_xpath(\"//div[@id='container']/div[@id='content']/div[@id='infobar']/div[@class='wrap-left clearfix']/div[@class='wrap-content wrap-right clearfix']/div[@class='gold']\")\n",
    "    if int(status[0].text.split(\"    \")[4].split(' / ')[0].replace('.', '')) <= blood_lower:\n",
    "        return(False)\n",
    "    else:\n",
    "        return(True)"
   ]
  },
  {
   "cell_type": "code",
   "execution_count": 10,
   "metadata": {},
   "outputs": [],
   "source": [
    "def auto(max_run_number = 200, verbose = True):\n",
    "    #verbose = True\n",
    "    #max_run_number = 200\n",
    "    flag = False #check is it 'Continue'\n",
    "    count = 1\n",
    "    pre = 'start'\n",
    "    his = []\n",
    "    while(count < max_run_number):\n",
    "        print('=========')\n",
    "        print(str(count) + '   Start!!')\n",
    "        #browser.refersh()\n",
    "        elements = browser.find_elements_by_xpath(\"//div[@id='container']/div[@id='content']/div[@class='wrap-left clearfix']/div[@class ='wrap-content wrap-right clearfix']/div/div[@class ='btn-left center']/div[@class ='btn-right']/a[@class ='btn']\")\n",
    "        if pre == elements:\n",
    "            browser.refresh()\n",
    "\n",
    "        pre = elements\n",
    "        if len(elements) == 0:\n",
    "            alert()\n",
    "            raise\n",
    "        tem = {}\n",
    "        if verbose:\n",
    "            v_tem = {}\n",
    "\n",
    "        for idx in range(len(elements)):\n",
    "            '''\n",
    "            if elements[idx].text == 'Ask for more':\n",
    "                print('check!')\n",
    "                alert()\n",
    "                raise \n",
    "            '''\n",
    "\n",
    "            if elements[idx].text in priority:\n",
    "                tem[priority[elements[idx].text]] = idx\n",
    "                if verbose:\n",
    "                    v_tem[elements[idx].text] = priority[elements[idx].text]\n",
    "            else:\n",
    "                alert()\n",
    "                raise NameError(priority[elements[idx].text])\n",
    "        #print(tem)\n",
    "        if verbose:\n",
    "            print(v_tem)\n",
    "        print(elements[tem[min(tem.keys())]].text)\n",
    "        his.append(elements[tem[min(tem.keys())]].text)\n",
    "        if elements[tem[min(tem.keys())]].text == 'Continue':\n",
    "            flag = True\n",
    "        elements[tem[min(tem.keys())]].click()\n",
    "        if flag:\n",
    "            flag = False\n",
    "            time.sleep(2)\n",
    "        else:\n",
    "            time.sleep(1.5)\n",
    "        if not check_blood():\n",
    "            alert()\n",
    "            raise\n",
    "\n",
    "        if count % 10 == 0:\n",
    "            clear_output(wait=True)\n",
    "        count += 1\n",
    "    alert()\n",
    "            \n",
    "    \n",
    "    "
   ]
  },
  {
   "cell_type": "code",
   "execution_count": 13,
   "metadata": {},
   "outputs": [],
   "source": [
    "def main():\n",
    "    auto(max_run_number = 10)"
   ]
  },
  {
   "cell_type": "code",
   "execution_count": 14,
   "metadata": {},
   "outputs": [
    {
     "name": "stdout",
     "output_type": "stream",
     "text": [
      "=========\n",
      "1   Start!!\n",
      "{'Devour': 17, 'Talk': 999, 'Escort': 15, 'Curse': 998}\n",
      "Escort\n",
      "=========\n",
      "2   Start!!\n",
      "{'Continue': 0}\n",
      "Continue\n",
      "=========\n",
      "3   Start!!\n",
      "{'Examine': 999, 'Carry on walking': 19, 'Snoop': 1}\n",
      "Snoop\n",
      "=========\n",
      "4   Start!!\n",
      "{'Continue': 0}\n",
      "Continue\n"
     ]
    },
    {
     "ename": "KeyboardInterrupt",
     "evalue": "",
     "output_type": "error",
     "traceback": [
      "\u001b[0;31m---------------------------------------------------------------------------\u001b[0m",
      "\u001b[0;31mKeyboardInterrupt\u001b[0m                         Traceback (most recent call last)",
      "\u001b[0;32m<ipython-input-14-263240bbee7e>\u001b[0m in \u001b[0;36m<module>\u001b[0;34m\u001b[0m\n\u001b[0;32m----> 1\u001b[0;31m \u001b[0mmain\u001b[0m\u001b[0;34m(\u001b[0m\u001b[0;34m)\u001b[0m\u001b[0;34m\u001b[0m\u001b[0;34m\u001b[0m\u001b[0m\n\u001b[0m",
      "\u001b[0;32m<ipython-input-13-295febc33fcd>\u001b[0m in \u001b[0;36mmain\u001b[0;34m()\u001b[0m\n\u001b[1;32m      1\u001b[0m \u001b[0;32mdef\u001b[0m \u001b[0mmain\u001b[0m\u001b[0;34m(\u001b[0m\u001b[0;34m)\u001b[0m\u001b[0;34m:\u001b[0m\u001b[0;34m\u001b[0m\u001b[0;34m\u001b[0m\u001b[0m\n\u001b[0;32m----> 2\u001b[0;31m     \u001b[0mauto\u001b[0m\u001b[0;34m(\u001b[0m\u001b[0mmax_run_number\u001b[0m \u001b[0;34m=\u001b[0m \u001b[0;36m10\u001b[0m\u001b[0;34m)\u001b[0m\u001b[0;34m\u001b[0m\u001b[0;34m\u001b[0m\u001b[0m\n\u001b[0m",
      "\u001b[0;32m<ipython-input-10-00ee7d264f1d>\u001b[0m in \u001b[0;36mauto\u001b[0;34m(max_run_number, verbose)\u001b[0m\n\u001b[1;32m     47\u001b[0m         \u001b[0;32mif\u001b[0m \u001b[0mflag\u001b[0m\u001b[0;34m:\u001b[0m\u001b[0;34m\u001b[0m\u001b[0;34m\u001b[0m\u001b[0m\n\u001b[1;32m     48\u001b[0m             \u001b[0mflag\u001b[0m \u001b[0;34m=\u001b[0m \u001b[0;32mFalse\u001b[0m\u001b[0;34m\u001b[0m\u001b[0;34m\u001b[0m\u001b[0m\n\u001b[0;32m---> 49\u001b[0;31m             \u001b[0mtime\u001b[0m\u001b[0;34m.\u001b[0m\u001b[0msleep\u001b[0m\u001b[0;34m(\u001b[0m\u001b[0;36m2\u001b[0m\u001b[0;34m)\u001b[0m\u001b[0;34m\u001b[0m\u001b[0;34m\u001b[0m\u001b[0m\n\u001b[0m\u001b[1;32m     50\u001b[0m         \u001b[0;32melse\u001b[0m\u001b[0;34m:\u001b[0m\u001b[0;34m\u001b[0m\u001b[0;34m\u001b[0m\u001b[0m\n\u001b[1;32m     51\u001b[0m             \u001b[0mtime\u001b[0m\u001b[0;34m.\u001b[0m\u001b[0msleep\u001b[0m\u001b[0;34m(\u001b[0m\u001b[0;36m1.5\u001b[0m\u001b[0;34m)\u001b[0m\u001b[0;34m\u001b[0m\u001b[0;34m\u001b[0m\u001b[0m\n",
      "\u001b[0;31mKeyboardInterrupt\u001b[0m: "
     ]
    }
   ],
   "source": [
    "main()"
   ]
  },
  {
   "cell_type": "code",
   "execution_count": null,
   "metadata": {},
   "outputs": [],
   "source": []
  }
 ],
 "metadata": {
  "kernelspec": {
   "display_name": "Python 3",
   "language": "python",
   "name": "python3"
  },
  "language_info": {
   "codemirror_mode": {
    "name": "ipython",
    "version": 3
   },
   "file_extension": ".py",
   "mimetype": "text/x-python",
   "name": "python",
   "nbconvert_exporter": "python",
   "pygments_lexer": "ipython3",
   "version": "3.7.6"
  }
 },
 "nbformat": 4,
 "nbformat_minor": 4
}
